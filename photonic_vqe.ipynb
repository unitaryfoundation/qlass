{
 "cells": [
  {
   "cell_type": "markdown",
   "metadata": {},
   "source": [
    "# Photonic VQE Tutorial: Simulating Molecular Ground States with Qlass\n",
    "\n",
    "This tutorial demonstrates how to use the Qlass library to perform Variational Quantum Eigensolver (VQE) simulations for molecular systems using photonic circuits. We start with the H2 molecule and discuss how to extend to more complex molecules like LiH. The notebook is updated for the latest `qlass.vqe` module and is well-commented for new users."
   ]
  },
  {
   "cell_type": "markdown",
   "metadata": {},
   "source": [
    "## Introduction\n",
    "\n",
    "The Variational Quantum Eigensolver (VQE) is a hybrid quantum-classical algorithm used to estimate the ground state energy of quantum systems, such as molecules. In this tutorial, we:\n",
    "- Import required libraries\n",
    "- Load molecular Hamiltonian data from file\n",
    "- Define the VQE ansatz and executor\n",
    "- Run VQE for H2 and discuss how to extend to LiH\n",
    "- Compare results with theoretical values"
   ]
  },
  {
   "cell_type": "code",
   "execution_count": null,
   "metadata": {},
   "outputs": [],
   "source": [
    "# Import required libraries\n",
    "import perceval as pcvl\n",
    "import perceval.components as comp\n",
    "from perceval.algorithm import Sampler\n",
    "\n",
    "from qlass.utils import loss_function, rotate_qubits\n",
    "from qlass.vqe import le_ansatz\n",
    "\n",
    "import warnings\n",
    "warnings.simplefilter('ignore')\n",
    "warnings.filterwarnings('ignore')\n",
    "\n",
    "from scipy.optimize import minimize\n",
    "from tqdm import tqdm\n",
    "import matplotlib.pyplot as plt\n",
    "import numpy as np\n",
    "\n",
    "# Import H2 Hamiltonian data from file\n",
    "from examples.h2_hamiltonian_data import Hamiltonian_elem, Hamiltonian_coef"
   ]
  },
  {
   "cell_type": "markdown",
   "metadata": {},
   "source": [
    "## Hamiltonian Construction\n",
    "\n",
    "We use precomputed Hamiltonian elements and coefficients for the H2 molecule, loaded from file. The Hamiltonian is constructed for each bond length (radius) as a linear combination of Pauli operators. Theoretical ground state energies are also computed for comparison."
   ]
  },
  {
   "cell_type": "code",
   "execution_count": null,
   "metadata": {},
   "outputs": [],
   "source": [
    "# Build the Hamiltonian for each radius\n",
    "H1 = []\n",
    "(n, m) = Hamiltonian_coef.shape\n",
    "for i in range(n):  # i = Radius\n",
    "    h_0 = 1.0 * np.matrix(Hamiltonian_elem[0])\n",
    "    for j in range(1, m):\n",
    "        h_0 += Hamiltonian_coef[i, j] * np.matrix(Hamiltonian_elem[j])\n",
    "    H1.append([Hamiltonian_coef[i, 0], h_0])\n",
    "H = H1\n",
    "\n",
    "# Compute theoretical ground state energies\n",
    "E1_th = []\n",
    "for h in H:\n",
    "    l0 = np.linalg.eigvals(h[1])\n",
    "    l0.sort()\n",
    "    E1_th.append(min(l0))\n",
    "\n",
    "def hamiltonian_dictionary(h):\n",
    "    \"\"\"\n",
    "    Convert a 2-qubit Hamiltonian from array form to a dictionary.\n",
    "    Args:\n",
    "        h (np.ndarray): 2-qubit Hamiltonian in array form\n",
    "    Returns:\n",
    "        Dict[str, float]: Dictionary with Pauli string keys and coefficient values\n",
    "    \"\"\"\n",
    "    pauli_strings = [\"II\", \"IX\", \"IZ\", \"XI\", \"XX\", \"XZ\", \"ZI\", \"ZX\", \"ZZ\"]\n",
    "    return dict(zip(pauli_strings, h))"
   ]
  },
  {
   "cell_type": "markdown",
   "metadata": {},
   "source": [
    "## VQE Simulation with Qiskit Ansatz\n",
    "\n",
    "We use a Qiskit-style ansatz and Perceval's Sampler to estimate the ground state energy for each bond length. The executor function defines how the ansatz is constructed and sampled."
   ]
  },
  {
   "cell_type": "code",
   "execution_count": null,
   "metadata": {},
   "outputs": [],
   "source": [
    "# Executor for a two-qubit Qiskit ansatz\n",
    "\n",
    "def executor(lp, pauli_string):\n",
    "    processor = le_ansatz(lp, pauli_string)\n",
    "    sampler = Sampler(processor)\n",
    "    samples = sampler.samples(10_000)\n",
    "    return samples"
   ]
  },
  {
   "cell_type": "code",
   "execution_count": null,
   "metadata": {},
   "outputs": [],
   "source": [
    "# Run VQE for H2 molecule\n",
    "radius1 = []\n",
    "E1_qiskit = []\n",
    "num_qubits = 2\n",
    "for R in tqdm(range(5, 50, 2)):\n",
    "    h = np.array(Hamiltonian_coef[R])[0][1:]\n",
    "    H = hamiltonian_dictionary(h)\n",
    "    radius1.append(np.array(Hamiltonian_coef[R])[0][0])\n",
    "    initial_params = np.random.rand(2*num_qubits)\n",
    "    result = minimize(loss_function, initial_params, args=(H, executor), method='COBYLA', options={'maxiter': 30})\n",
    "    E1_qiskit.append(result.get('fun'))"
   ]
  },
  {
   "cell_type": "code",
   "execution_count": null,
   "metadata": {},
   "outputs": [],
   "source": [
    "# Plot results for H2\n",
    "plt.plot(100*np.array(radius1), np.array(E1_th)[range(5, 50, 2)],'orange')\n",
    "plt.plot(100*np.array(radius1), E1_qiskit,'x')\n",
    "plt.ylabel('Energy (MJ/mol)')\n",
    "plt.xlabel('Atomic separation R (pm)')\n",
    "plt.legend(['Theoretical ground energies', 'Ground energies computed with Perceval'])\n",
    "plt.show()\n",
    "\n",
    "min_value = min(E1_qiskit)\n",
    "min_index = E1_qiskit.index(min_value)\n",
    "print(f'The minimum energy is E_g({radius1[min_index]})={E1_qiskit[min_index]} MJ/mol and is attained for R_min ={radius1[min_index]} pm')"
   ]
  },
  {
   "cell_type": "markdown",
   "metadata": {},
   "source": [
    "## Generalizing to LiH and Other Molecules\n",
    "\n",
    "To expand this notebook to LiH, you would need to:\n",
    "- Obtain or compute the Hamiltonian elements and coefficients for LiH (e.g., using quantum chemistry packages)\n",
    "- Save them in a similar format as the H2 data file\n",
    "- Update the import and Hamiltonian construction steps accordingly\n",
    "\n",
    "The VQE workflow remains the same, but the number of qubits and ansatz complexity may increase. For larger molecules, consider more advanced ansatz circuits and optimization strategies."
   ]
  },
  {
   "cell_type": "markdown",
   "metadata": {},
   "source": [
    "## Comments on Results\n",
    "\n",
    "- The VQE results for H2 closely follow the theoretical ground state energies, demonstrating the effectiveness of the approach.\n",
    "- For LiH and larger molecules, expect increased computational complexity and the need for more sophisticated ansatz and optimization.\n",
    "- The modular structure of this notebook allows easy extension to new molecules and ansatz types."
   ]
  },
  {
   "cell_type": "markdown",
   "metadata": {},
   "source": [
    "---\n",
    "**End of Tutorial**"
   ]
  }
 ],
 "metadata": {
  "kernelspec": {
   "display_name": ".venv",
   "language": "python",
   "name": "python3"
  },
  "language_info": {
   "codemirror_mode": {
    "name": "ipython",
    "version": 3
   },
   "file_extension": ".py",
   "mimetype": "text/x-python",
   "name": "python",
   "nbconvert_exporter": "python",
   "pygments_lexer": "ipython3",
   "version": "3.12.6"
  }
 },
 "nbformat": 4,
 "nbformat_minor": 2
}
